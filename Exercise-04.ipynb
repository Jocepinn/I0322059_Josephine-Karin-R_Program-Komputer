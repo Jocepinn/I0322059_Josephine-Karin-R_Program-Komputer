{
 "cells": [
  {
   "cell_type": "code",
   "execution_count": 1,
   "metadata": {},
   "outputs": [
    {
     "name": "stdout",
     "output_type": "stream",
     "text": [
      "Josephine Karin R\n",
      "I0322059\n",
      "B\n"
     ]
    }
   ],
   "source": [
    "print(input(\"Nama: \"))\n",
    "print(input(\"NIM: \"))\n",
    "print(input(\"Kelas: \"))"
   ]
  },
  {
   "attachments": {},
   "cell_type": "markdown",
   "metadata": {},
   "source": [
    "## 1."
   ]
  },
  {
   "attachments": {},
   "cell_type": "markdown",
   "metadata": {},
   "source": [
    "Buatlah program yang meminta input string dari user, kemudian program akan menentukan string tersebut adalah palyndrome atau bukan.<br>\n",
    "* Palyndrome adalah kata atau kalimat yang jika dibalik hasilnya sama\n",
    "* kasur rusak adalah palyndrome\n",
    "\n",
    "> *note: Kerjakan soal ini dengan percabangan*"
   ]
  },
  {
   "cell_type": "code",
   "execution_count": 1,
   "metadata": {},
   "outputs": [
    {
     "name": "stdout",
     "output_type": "stream",
     "text": [
      "katak katak termasuk palyndrome\n"
     ]
    }
   ],
   "source": [
    "# Kerjakan soal no 1 di sini\n",
    "\n",
    "Kata_atau_kalimat =str(input())\n",
    "Hasil =Kata_atau_kalimat[::-1]\n",
    "\n",
    "if Kata_atau_kalimat==Hasil :\n",
    "    print(Kata_atau_kalimat,\"termasuk palyndrome\")\n",
    "else :\n",
    "    print(Kata_atau_kalimat,\"tidak termasuk palyndrome\")"
   ]
  },
  {
   "attachments": {},
   "cell_type": "markdown",
   "metadata": {},
   "source": [
    "## 2."
   ]
  },
  {
   "attachments": {},
   "cell_type": "markdown",
   "metadata": {},
   "source": [
    "Buatlah program yang meminta input berupa tahun dan bulan kemudian tampilkan jumlah hari pada bulan tersebut (perbedaan pada tahun kabisat).<br>\n",
    "\n",
    "> *note: Kerjakan soal ini dengan percabangan*"
   ]
  },
  {
   "cell_type": "code",
   "execution_count": 5,
   "metadata": {},
   "outputs": [
    {
     "name": "stdout",
     "output_type": "stream",
     "text": [
      "jumlah hari pada bulan Juli tahun 2003 adalah 31 hari\n"
     ]
    }
   ],
   "source": [
    "# Kerjakan soal no 2 di sini\n",
    "Total_hari = {\" Tahun Biasa\":{\n",
    "    'Januari':31,\n",
    "    'Februari':28,\n",
    "    'Maret':31,\n",
    "    'April':30,\n",
    "    'Mei':31,\n",
    "    'Juni':30,\n",
    "    'Juli':31,\n",
    "    'Agustus':31,\n",
    "    'September':30,\n",
    "    'Oktober': 31,\n",
    "    'November': 30,\n",
    "    'Desember': 31\n",
    "},\n",
    "            \"Tahun Kabisat\": {\n",
    "    'Januari':31,\n",
    "    'Februari':29,\n",
    "    'Maret':31,\n",
    "    'April':30,\n",
    "    'Mei':31,\n",
    "    'Juni':30,\n",
    "    'Juli':31,\n",
    "    'Agustus':31,\n",
    "    'September':30,\n",
    "    'Oktober': 31,\n",
    "    'November': 30,\n",
    "    'Desember': 31\n",
    "            }\n",
    "}\n",
    "\n",
    "tahun=int(input(\"masukkan tahun :\"))\n",
    "bulan=str(input(\"masukkan bulan (lowercase)\"))\n",
    "if tahun % 4 == 0 and (tahun % 400 == 0 or tahun % 100 == 0 ):\n",
    "    print(\"jumlah hari pada bulan\", bulan, \"tahun\", tahun, \"adalah\",Total_hari ['Tahun Biasa'][bulan], \"hari\")\n",
    "else :\n",
    "     print(\"jumlah hari pada bulan\", bulan, \"tahun\", tahun, \"adalah\",Total_hari ['Tahun Kabisat'][bulan], \"hari\")\n",
    "\n",
    "\n"
   ]
  }
 ],
 "metadata": {
  "kernelspec": {
   "display_name": "Python 3",
   "language": "python",
   "name": "python3"
  },
  "language_info": {
   "codemirror_mode": {
    "name": "ipython",
    "version": 3
   },
   "file_extension": ".py",
   "mimetype": "text/x-python",
   "name": "python",
   "nbconvert_exporter": "python",
   "pygments_lexer": "ipython3",
   "version": "3.11.2"
  },
  "orig_nbformat": 4
 },
 "nbformat": 4,
 "nbformat_minor": 2
}
