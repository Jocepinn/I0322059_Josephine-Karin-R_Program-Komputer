{
 "cells": [
  {
   "attachments": {},
   "cell_type": "markdown",
   "metadata": {},
   "source": [
    "1. Diberikan List sebagai berikut!"
   ]
  },
  {
   "cell_type": "code",
   "execution_count": 1,
   "metadata": {},
   "outputs": [],
   "source": [
    "list1 = ['a','b','c']\n",
    "list2 = ['c','d','e']"
   ]
  },
  {
   "attachments": {},
   "cell_type": "markdown",
   "metadata": {},
   "source": [
    "Buatlah program pengulangan untuk menampilkan elemen dalam kedua list tersebut yang sama! (Contoh Output \"Nilai yang sama adalah 'C'\")"
   ]
  },
  {
   "cell_type": "code",
   "execution_count": 2,
   "metadata": {},
   "outputs": [
    {
     "name": "stdout",
     "output_type": "stream",
     "text": [
      "Nilai yang sama adalah c\n"
     ]
    }
   ],
   "source": [
    "# Kerjakan nomor 1 di sini\n",
    "\n",
    "list1 = ['a','b','c']\n",
    "list2 = ['c','d','e']\n",
    "\n",
    "for x in list1 :\n",
    "    if x in list2:\n",
    "        print(\"Nilai yang sama adalah\", x)\n",
    "\n"
   ]
  },
  {
   "attachments": {},
   "cell_type": "markdown",
   "metadata": {},
   "source": [
    "2. Buatlah sebuah list yang berisi daftar mata kuliah di Teknik Industri UNS (minimal 10 matkul). Kemudian buat program pencarian menggunakan pengulangan. Apabila nama matkul yang user inputkan sudah sesuai dengan isi list maka program akan berhenti dan menampilkan output \"Mata Kuliah (matkul yang diinput user) adalah mata kuliah di Teknik Industri UNS\"."
   ]
  },
  {
   "cell_type": "code",
   "execution_count": 35,
   "metadata": {},
   "outputs": [
    {
     "name": "stdout",
     "output_type": "stream",
     "text": [
      "Maaf Matematika tidak termasuk dalam matkul Teknik Industri UNS\n",
      "Maaf Bisnis  tidak termasuk dalam matkul Teknik Industri UNS\n",
      "Maaf Hukum  tidak termasuk dalam matkul Teknik Industri UNS\n",
      "Maaf Olahraga tidak termasuk dalam matkul Teknik Industri UNS\n",
      "Matkul Biologi merupakan matkul di Teknik Industri UNS\n"
     ]
    }
   ],
   "source": [
    "# Kerjakan nomor 2 di sini\n",
    "\n",
    "Daftar_matkul = [\"Pengantar Teknik Industri\", \"Sistem Lingkungan Industri\",\"Fisika Dasar\", \"Kimia Dasar\",\"Biologi\",\"Kalkulus\",\"Pengantar Ilmu Eknomi\", \"Pendidikan Agama\", \"Pendidikan Kewarganegaraan\", \"Material Teknik\",\"Mekanika Teknik\", \"Psikolog Industri\", \"Pengantar Rekayasa Desain\" ]\n",
    "while True:\n",
    "    Nama_matkul = input(\"Masukkan nama matkul(masukkan 'kembali' jika sudah selesai ):\")\n",
    "    if Nama_matkul.lower() == 'kembali':\n",
    "        break\n",
    "    elif Nama_matkul in Daftar_matkul:\n",
    "        print(\"Matkul\", Nama_matkul, \"merupakan matkul di Teknik Industri UNS\")\n",
    "        break\n",
    "    else:\n",
    "        print(\"Maaf\", Nama_matkul, \"tidak termasuk dalam matkul Teknik Industri UNS\")"
   ]
  },
  {
   "attachments": {},
   "cell_type": "markdown",
   "metadata": {},
   "source": [
    "3. Buatlah program untuk menampilkan faktorial dari suatu bilangan dimana bilangan tersebut didapat melalui input user!"
   ]
  },
  {
   "cell_type": "code",
   "execution_count": 39,
   "metadata": {},
   "outputs": [
    {
     "name": "stdout",
     "output_type": "stream",
     "text": [
      "Nilai Faktorial 100 adalah 93326215443944152681699238856266700490715968264381621468592963895217599993229915608941463976156518286253697920827223758251185210916864000000000000000000000000\n"
     ]
    }
   ],
   "source": [
    "# Kerjakan nomor 3 di sini\n",
    "\n",
    "Bilangan = int(input(\"Masukkan bilangan: \"))\n",
    "Faktorial = 1\n",
    "\n",
    "if Bilangan < 0:\n",
    "    print(\"Faktorial tidak dapat digunakan untuk bilangan negatif\")\n",
    "elif Bilangan == 0 :\n",
    "    print(\"Faktorial dari 0 adalah 1\")\n",
    "else :\n",
    "    for x in range (1, Bilangan + 1):\n",
    "        Faktorial = Faktorial * x\n",
    "    print(\"Nilai Faktorial\", Bilangan, \"adalah\", Faktorial)\n",
    "\n",
    "\n"
   ]
  }
 ],
 "metadata": {
  "language_info": {
   "name": "python"
  },
  "orig_nbformat": 4
 },
 "nbformat": 4,
 "nbformat_minor": 2
}
