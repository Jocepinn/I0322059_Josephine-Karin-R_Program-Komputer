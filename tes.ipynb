{
 "cells": [
  {
   "cell_type": "code",
   "execution_count": 1,
   "metadata": {},
   "outputs": [
    {
     "name": "stdout",
     "output_type": "stream",
     "text": [
      "[[10, 3], [17, 9]]\n"
     ]
    }
   ],
   "source": [
    "# matriks berukuran 2 x 2\n",
    "matriksA = [[10, 3],\n",
    "            [17,9]]\n",
    "print(matriksA)\n",
    "# print(matriksA[0][0])\n",
    "# print(matriksA[1][1])"
   ]
  },
  {
   "cell_type": "code",
   "execution_count": 3,
   "metadata": {},
   "outputs": [
    {
     "name": "stdout",
     "output_type": "stream",
     "text": [
      "[[15, 99], [67, 1]]\n",
      "15\n",
      "1\n"
     ]
    }
   ],
   "source": [
    "# matriks berukuran 2 x 2\n",
    "matriksA = [[15, 99],\n",
    "            [67,1]]\n",
    "print(matriksA)\n",
    "print(matriksA[0][0])\n",
    "print(matriksA[1][1])"
   ]
  },
  {
   "cell_type": "code",
   "execution_count": null,
   "metadata": {},
   "outputs": [],
   "source": [
    "# matriks berukuran 3 x 2\n",
    "matriksA = [[10, 3],\n",
    "            [17,9]\n",
    "            [66,45]]\n",
    "print(matriksA)\n",
    "# print(matriksA[0][0])\n",
    "# print(matriksA[1][1])"
   ]
  },
  {
   "cell_type": "code",
   "execution_count": 1,
   "metadata": {},
   "outputs": [
    {
     "name": "stdout",
     "output_type": "stream",
     "text": [
      "[[23, 10, 38, 5, 42], [82, 68, 93, 24, 36], [88, 80, 94, 59, 89], [9, 72, 44, 11, 7]]\n"
     ]
    }
   ],
   "source": [
    "import random\n",
    "m=4\n",
    "n=5\n",
    "MA=[0]*m\n",
    "\n",
    "for baris in range(m):\n",
    "    MA[baris]=[0]*n\n",
    "    MA[baris][0]=random.randrange(1,100)\n",
    "    MA[baris][1]=random.randrange(1,100)\n",
    "    MA[baris][2]=random.randrange(1,100)\n",
    "    MA[baris][3]=random.randrange(1,100)\n",
    "    MA[baris][4]=random.randrange(1,100)\n",
    "\n",
    "print(MA)"
   ]
  },
  {
   "cell_type": "code",
   "execution_count": 6,
   "metadata": {},
   "outputs": [
    {
     "name": "stdout",
     "output_type": "stream",
     "text": [
      "cape\n",
      "rindu umur 5 tahun\n",
      "kenapa harus hidup\n",
      "lelah\n"
     ]
    }
   ],
   "source": [
    "print (\"cape\")\n",
    "print(\"rindu umur 5 tahun\")\n",
    "print(\"kenapa harus hidup\")\n",
    "print(\"lelah\")"
   ]
  },
  {
   "cell_type": "code",
   "execution_count": 8,
   "metadata": {},
   "outputs": [
    {
     "name": "stdout",
     "output_type": "stream",
     "text": [
      "hafiz\n"
     ]
    }
   ],
   "source": [
    "imperiale={\n",
    "    'I0322001':{'nim':'I0322001','nama':'sidiq','alamat':'jl. asahan'},\n",
    "    'I0322044':{'nim':'I0322044','nama':'fery','alamat':'jl. kabut'},\n",
    "    'I0322135':{'nim':'I0322135','nama':'hafiz','alamat':'surakarta'}\n",
    "}\n",
    "\n",
    "dnim=input(\"masukkan digit nim akhir:\")\n",
    "keynim=''\n",
    "if len(dnim)==1:\n",
    "    keynim='I032200'+dnim\n",
    "elif len(dnim)==2:\n",
    "    keynim='I03220'+dnim\n",
    "elif len(dnim)==3:\n",
    "    keynim='I0322'+dnim\n",
    "else:\n",
    "    keynim=dnim\n",
    "\n",
    "print(imperiale[keynim]['nama'])"
   ]
  },
  {
   "cell_type": "code",
   "execution_count": null,
   "metadata": {},
   "outputs": [],
   "source": []
  },
  {
   "cell_type": "code",
   "execution_count": null,
   "metadata": {},
   "outputs": [],
   "source": [
    "dnim = input (\"isikan digit terakhir nim anda :\")\n",
    "keynim=\"\"\n",
    "if len(dnim)== 1 :\n",
    "    keynim = \"I032200\" + dnim\n",
    "elif len(data)== 2 :\n",
    "    keynim = \"I03220\" + dnim\n",
    "elif len(data) == 3 :\n",
    "    keynim = \"I0322\" + dnim\n",
    "else:\n",
    "    keynim = dnim\n",
    "\n",
    "print(\"\")"
   ]
  },
  {
   "cell_type": "code",
   "execution_count": null,
   "metadata": {},
   "outputs": [],
   "source": [
    "namafile = input(\"Input nama file :\")\n",
    "teks = open(namafile, 'r')\n",
    "print()\n",
    "print(f'nama file : (namafile)')\n"
   ]
  },
  {
   "cell_type": "code",
   "execution_count": 9,
   "metadata": {},
   "outputs": [
    {
     "name": "stdout",
     "output_type": "stream",
     "text": [
      "Membuka file . . . . .\n",
      "Menghapus isi file . . . . .\n",
      "Tuliskan 3 baris untuk isi file tersebut !\n",
      "Menuliskan 3 baris ke file utbk 2023\n",
      "Menyimpan file utbk 2023\n",
      "Selesai ...\n"
     ]
    }
   ],
   "source": [
    "namafile = input(\"Input nama file : \")\n",
    "\n",
    "print(\"Membuka file . . . . .\")\n",
    "targetFile = open(namafile, 'w+')\n",
    "input(\"Tekan ENTER ..\")\n",
    "\n",
    "# print(\"Membaca isi file . . .\")\n",
    "# print(targetFile.read())\n",
    "# input(\"Tekan ENTER ..\")\n",
    "\n",
    "print(\"Menghapus isi file . . . . .\")\n",
    "targetFile.truncate()\n",
    "input(\"Tekan ENTER ..\")\n",
    "\n",
    "print(\"Tuliskan 3 baris untuk isi file tersebut !\")\n",
    "baris1 = input(\"baris 1 : \")\n",
    "baris2 = input(\"baris 2 : \")\n",
    "baris3 = input(\"baris 3 : \")\n",
    "\n",
    "print(f\"Menuliskan 3 baris ke file {namafile}\")\n",
    "targetFile.write(baris1)\n",
    "targetFile.write(\"\\n\")\n",
    "targetFile.write(baris2)\n",
    "targetFile.write(\"\\n\")\n",
    "targetFile.write(baris3)\n",
    "targetFile.write(\"\\n\")\n",
    "input(\"Tekan ENTER ..\")\n",
    "\n",
    "print(f\"Menyimpan file {namafile}\")\n",
    "targetFile.close()\n",
    "input(\"Tekan ENTER ..\")\n",
    "print(\"Selesai ...\")"
   ]
  },
  {
   "cell_type": "code",
   "execution_count": null,
   "metadata": {},
   "outputs": [],
   "source": []
  }
 ],
 "metadata": {
  "kernelspec": {
   "display_name": "Python 3",
   "language": "python",
   "name": "python3"
  },
  "language_info": {
   "codemirror_mode": {
    "name": "ipython",
    "version": 3
   },
   "file_extension": ".py",
   "mimetype": "text/x-python",
   "name": "python",
   "nbconvert_exporter": "python",
   "pygments_lexer": "ipython3",
   "version": "3.11.2"
  },
  "orig_nbformat": 4
 },
 "nbformat": 4,
 "nbformat_minor": 2
}
