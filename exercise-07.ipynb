{
 "cells": [
  {
   "cell_type": "code",
   "execution_count": 10,
   "metadata": {},
   "outputs": [
    {
     "data": {
      "text/plain": [
       "[[2, 3], [4, 5]]"
      ]
     },
     "execution_count": 10,
     "metadata": {},
     "output_type": "execute_result"
    }
   ],
   "source": [
    "#Buatlah sebuah fungsi untuk membuat matrix berdasarkan input dari user\n",
    "\n",
    "def create_matrix(baris,kolom):\n",
    "\n",
    "\n",
    "    #Tulis kode kamu disini\n",
    "        matrix = [[0 for j in range(kolom)]for i in range (baris)]\n",
    "        for i in range (baris) :\n",
    "            for j in range(kolom):\n",
    "                 matrix[i][j] = int(input(f'masukkan angka [{i+1}][{j+1}]:'))\n",
    "\n",
    "        return matrix\n",
    "\n",
    "\n",
    "baris = int(input('Masukkan Jumlah Baris:\\t'))\n",
    "kolom = int(input('Masukkan Jumlah Kolom:\\t'))\n",
    "\n",
    "create_matrix(baris,kolom)"
   ]
  },
  {
   "cell_type": "code",
   "execution_count": 6,
   "metadata": {},
   "outputs": [
    {
     "data": {
      "text/plain": [
       "[[0, 1], [2, -3]]"
      ]
     },
     "execution_count": 6,
     "metadata": {},
     "output_type": "execute_result"
    }
   ],
   "source": [
    "#Buatlah fungsi untuk melakukan pengurangan antar dua matrix berdasarkan input user\n",
    "\n",
    "def kurang_matrix(matrixA, matrixB):\n",
    "    kurang = [[0,0],\n",
    "              [0,0]]\n",
    "\n",
    "    #Tulis kode kamu disini\n",
    "    for i in range (len(matrixB)):\n",
    "     for j in range(len(matrixB[i])):\n",
    "        kurang[i][j]=matrixA[i][j]- matrixB[i][j]\n",
    "\n",
    "    \n",
    "\n",
    "    return kurang\n",
    "\n",
    "\n",
    "matrixA = [[0,4],\n",
    "           [2,1]]\n",
    "matrixB = [[0,3],\n",
    "            [0,4]]\n",
    "\n",
    "\n",
    "kurang_matrix(matrixA,matrixB)\n"
   ]
  },
  {
   "cell_type": "code",
   "execution_count": 25,
   "metadata": {},
   "outputs": [
    {
     "name": "stdout",
     "output_type": "stream",
     "text": [
      "Masukkan elemen-elemen matriks:\n"
     ]
    },
    {
     "data": {
      "text/plain": [
       "[[0.25, 0.5], [0.75, 1.0]]"
      ]
     },
     "execution_count": 25,
     "metadata": {},
     "output_type": "execute_result"
    }
   ],
   "source": [
    "#Buatlah Fungsi untuk melakukan pembagian matrix dengan skalar berdasarkan input user\n",
    "def bagi_matrix(matrix1, skalar):\n",
    "    baris = len(matrix1)\n",
    "    kolom = len(matrix1[0])\n",
    "    hasil = [[0 for j in range(kolom)] for i in range(baris)]\n",
    "\n",
    "    #Tulis kode kamu disini\n",
    "    for i in range(baris):\n",
    "        for j in range(kolom):\n",
    "            hasil[i][j] = matrix1[i][j]/skalar\n",
    "\n",
    "    return hasil\n",
    "#Komponen matriks\n",
    "def read_matrix1_from_input():\n",
    "    matrix1 = []\n",
    "    baris = int(input(\"Masukkan jumlah baris: \"))\n",
    "    kolom= int(input(\"Masukkan jumlah kolom: \"))\n",
    "\n",
    "    print(\"Masukkan elemen-elemen matriks:\")\n",
    "\n",
    "    for i in range(baris):\n",
    "        row = []\n",
    "        for j in range(kolom):\n",
    "            komponen = float(input())\n",
    "            row.append(komponen)\n",
    "        matrix1.append(row)\n",
    "\n",
    "    return matrix1\n",
    "\n",
    "\n",
    "\n",
    "matrix1 = read_matrix1_from_input()\n",
    "skalar = int(input('Matrix dibagi berapa?\\t'))\n",
    "\n",
    "\n",
    "bagi_matrix(matrix1, skalar)"
   ]
  }
 ],
 "metadata": {
  "kernelspec": {
   "display_name": "Python 3",
   "language": "python",
   "name": "python3"
  },
  "language_info": {
   "codemirror_mode": {
    "name": "ipython",
    "version": 3
   },
   "file_extension": ".py",
   "mimetype": "text/x-python",
   "name": "python",
   "nbconvert_exporter": "python",
   "pygments_lexer": "ipython3",
   "version": "3.11.2"
  },
  "orig_nbformat": 4
 },
 "nbformat": 4,
 "nbformat_minor": 2
}
